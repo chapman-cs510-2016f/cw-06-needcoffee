{
 "cells": [
  {
   "cell_type": "markdown",
   "metadata": {},
   "source": [
    "# Alexis Ford, Afnan Alqahtani\n",
    "October 11 , 2016"
   ]
  },
  {
   "cell_type": "markdown",
   "metadata": {},
   "source": [
    "## Demonstration of ComplexPlaneNP "
   ]
  },
  {
   "cell_type": "markdown",
   "metadata": {},
   "source": [
    "We import our module and set the attributes for the plane window using the constructor. With the addition of a `__repr__` method, we are able to view our plane via `print`. The use of pandas includes labels corresponding the the x-axis (row 0) and the y-axis (column 0)."
   ]
  },
  {
   "cell_type": "code",
   "execution_count": 1,
   "metadata": {
    "collapsed": false
   },
   "outputs": [
    {
     "name": "stdout",
     "output_type": "stream",
     "text": [
      "         -5       -4       -3       -2       -1    0       1       2       3       4       5\n",
      "-5  (-5-5j)  (-4-5j)  (-3-5j)  (-2-5j)  (-1-5j)  -5j  (1-5j)  (2-5j)  (3-5j)  (4-5j)  (5-5j)\n",
      "-4  (-5-4j)  (-4-4j)  (-3-4j)  (-2-4j)  (-1-4j)  -4j  (1-4j)  (2-4j)  (3-4j)  (4-4j)  (5-4j)\n",
      "-3  (-5-3j)  (-4-3j)  (-3-3j)  (-2-3j)  (-1-3j)  -3j  (1-3j)  (2-3j)  (3-3j)  (4-3j)  (5-3j)\n",
      "-2  (-5-2j)  (-4-2j)  (-3-2j)  (-2-2j)  (-1-2j)  -2j  (1-2j)  (2-2j)  (3-2j)  (4-2j)  (5-2j)\n",
      "-1  (-5-1j)  (-4-1j)  (-3-1j)  (-2-1j)  (-1-1j)  -1j  (1-1j)  (2-1j)  (3-1j)  (4-1j)  (5-1j)\n",
      " 0  (-5+0j)  (-4+0j)  (-3+0j)  (-2+0j)  (-1+0j)   0j  (1+0j)  (2+0j)  (3+0j)  (4+0j)  (5+0j)\n",
      " 1  (-5+1j)  (-4+1j)  (-3+1j)  (-2+1j)  (-1+1j)   1j  (1+1j)  (2+1j)  (3+1j)  (4+1j)  (5+1j)\n",
      " 2  (-5+2j)  (-4+2j)  (-3+2j)  (-2+2j)  (-1+2j)   2j  (1+2j)  (2+2j)  (3+2j)  (4+2j)  (5+2j)\n",
      " 3  (-5+3j)  (-4+3j)  (-3+3j)  (-2+3j)  (-1+3j)   3j  (1+3j)  (2+3j)  (3+3j)  (4+3j)  (5+3j)\n",
      " 4  (-5+4j)  (-4+4j)  (-3+4j)  (-2+4j)  (-1+4j)   4j  (1+4j)  (2+4j)  (3+4j)  (4+4j)  (5+4j)\n",
      " 5  (-5+5j)  (-4+5j)  (-3+5j)  (-2+5j)  (-1+5j)   5j  (1+5j)  (2+5j)  (3+5j)  (4+5j)  (5+5j)\n"
     ]
    }
   ],
   "source": [
    "import cplane_np as cp\n",
    "testPlane = cp.ComplexPlaneNP(-5,5,11,-5,5,11)\n",
    "print(testPlane)"
   ]
  },
  {
   "cell_type": "markdown",
   "metadata": {},
   "source": [
    "The method `set_f()` transforms the complexplane by applting the function `f` to every point. Let us transform the plane by squaring each point with the function myFunction, then print the result."
   ]
  },
  {
   "cell_type": "code",
   "execution_count": 2,
   "metadata": {
    "collapsed": false
   },
   "outputs": [
    {
     "name": "stdout",
     "output_type": "stream",
     "text": [
      "          -5        -4         -3         -2         -1         0          1          2          3         4         5\n",
      "-5       50j  (-9+40j)  (-16+30j)  (-21+20j)  (-24+10j)  (-25-0j)  (-24-10j)  (-21-20j)  (-16-30j)  (-9-40j)      -50j\n",
      "-4   (9+40j)       32j   (-7+24j)  (-12+16j)   (-15+8j)  (-16-0j)   (-15-8j)  (-12-16j)   (-7-24j)      -32j   (9-40j)\n",
      "-3  (16+30j)   (7+24j)        18j   (-5+12j)    (-8+6j)   (-9-0j)    (-8-6j)   (-5-12j)       -18j   (7-24j)  (16-30j)\n",
      "-2  (21+20j)  (12+16j)    (5+12j)         8j    (-3+4j)   (-4-0j)    (-3-4j)        -8j    (5-12j)  (12-16j)  (21-20j)\n",
      "-1  (24+10j)   (15+8j)     (8+6j)     (3+4j)         2j   (-1-0j)        -2j     (3-4j)     (8-6j)   (15-8j)  (24-10j)\n",
      " 0   (25+0j)   (16+0j)     (9+0j)     (4+0j)     (1+0j)        0j     (1+0j)     (4+0j)     (9+0j)   (16+0j)   (25+0j)\n",
      " 1  (24-10j)   (15-8j)     (8-6j)     (3-4j)        -2j   (-1+0j)         2j     (3+4j)     (8+6j)   (15+8j)  (24+10j)\n",
      " 2  (21-20j)  (12-16j)    (5-12j)        -8j    (-3-4j)   (-4+0j)    (-3+4j)         8j    (5+12j)  (12+16j)  (21+20j)\n",
      " 3  (16-30j)   (7-24j)       -18j   (-5-12j)    (-8-6j)   (-9+0j)    (-8+6j)   (-5+12j)        18j   (7+24j)  (16+30j)\n",
      " 4   (9-40j)      -32j   (-7-24j)  (-12-16j)   (-15-8j)  (-16+0j)   (-15+8j)  (-12+16j)   (-7+24j)       32j   (9+40j)\n",
      " 5      -50j  (-9-40j)  (-16-30j)  (-21-20j)  (-24-10j)  (-25+0j)  (-24+10j)  (-21+20j)  (-16+30j)  (-9+40j)       50j\n"
     ]
    }
   ],
   "source": [
    "myFunction = lambda x:x**2\n",
    "testPlane.set_f(myFunction)\n",
    "print(testPlane)"
   ]
  },
  {
   "cell_type": "markdown",
   "metadata": {},
   "source": [
    "The `zoom` function changes the viewing window of the plane, either by changing the minimum and maximum of the axes, by changing the number of points per axis, or both. Then we `print` the plane to view it."
   ]
  },
  {
   "cell_type": "code",
   "execution_count": 3,
   "metadata": {
    "collapsed": false
   },
   "outputs": [
    {
     "name": "stdout",
     "output_type": "stream",
     "text": [
      "           -1.000000               -0.333333                0.333333        1.000000\n",
      "0.00          (1+0j)     (0.111111111111+0j)     (0.111111111111+0j)          (1+0j)\n",
      "0.75   (0.4375-1.5j)  (-0.451388888889-0.5j)  (-0.451388888889+0.5j)   (0.4375+1.5j)\n",
      "1.50      (-1.25-3j)     (-2.13888888889-1j)     (-2.13888888889+1j)      (-1.25+3j)\n",
      "2.25  (-4.0625-4.5j)   (-4.95138888889-1.5j)   (-4.95138888889+1.5j)  (-4.0625+4.5j)\n",
      "3.00         (-8-6j)     (-8.88888888889-2j)     (-8.88888888889+2j)         (-8+6j)\n"
     ]
    }
   ],
   "source": [
    "testPlane.zoom(-1,1,4,0,3,5)\n",
    "print(testPlane)"
   ]
  },
  {
   "cell_type": "markdown",
   "metadata": {},
   "source": [
    "## Julia \n",
    "\n",
    "create a function `julia(c, max=100)` that takes a complex parameter c and an optional positive integer max\n",
    "The function takes one complex parameter z as an input, and returns a positive integer n.\n",
    "The returned integer n should count how many times the complex parameter z can be transformed \n",
    "as $z = z^2$ + c before the resulting magnitude $|z|$ exceeds 2.\n",
    "If the number max is reached before the magnitude of z exceeds 2, the function should return the number 0.\n",
    "If the number z already has a magnitude larger than 2, the function should return 1."
   ]
  },
  {
   "cell_type": "markdown",
   "metadata": {},
   "source": [
    "### Testing the Julia function"
   ]
  },
  {
   "cell_type": "markdown",
   "metadata": {},
   "source": [
    "To test the julia function, we used a few simple cases, where |z| exceeds 2 after a small number of transformation. This can be done for several z values at once by applying the function generated by julia(0) to our complex plane."
   ]
  },
  {
   "cell_type": "code",
   "execution_count": 5,
   "metadata": {
    "collapsed": false,
    "scrolled": true
   },
   "outputs": [
    {
     "name": "stdout",
     "output_type": "stream",
     "text": [
      "    -1   0   1\n",
      "-1   2   0   2\n",
      " 0   0   0   0\n",
      " 1   2   0   2\n"
     ]
    }
   ],
   "source": [
    "someFunction = cp.julia(0)\n",
    "testPlane.set_f(someFunction)\n",
    "testPlane.zoom(-1,1,3,-1,1,3)\n",
    "print(testPlane)"
   ]
  },
  {
   "cell_type": "markdown",
   "metadata": {},
   "source": [
    "As expected, the value for 0 (which will never have a magnitude greater than 2 with zero being added to it) is 0, since the magnitude does not exceed 2 even after 100 (the default max) tries. Our other values, for small real and imaginary parts of z, are also as we expected. This is also how we created our test functions: with values that were easy to work with, but that also covered each output case (0, 1, or $n>1$)."
   ]
  },
  {
   "cell_type": "markdown",
   "metadata": {},
   "source": [
    "## Difference between CW5 and CW6\n",
    "\n",
    "The biggest difference is out introduction of panda and numpy, rather than vanilla python. This allowed us to simplify our algorithm for generating the plane by eliminating loops completely. The numpy function `linspace` generated the points for each axis, and the numpy function `meshgrid` matched each real component with every imaginary component, creating a 2D grid of complex numbers. The added vectorizing functionality also meant that we no longer needed two of our attributes, xtick and ytick. The `linspace` method has an argument (number of points in the interval) that accomplishes everything those attributes had done. The other change we made between CW5 and CW6 was the reorganization of our class. In response to peer critiques, we moved the creation of the plane to the `refresh()` method, which is then called in the `__init__`, `zoom`, and `set_f` methods. Lastly, we added the `__repr__` method so `print` could be called on our class objects, which is particularly useful in both testing and this demonstration."
   ]
  }
 ],
 "metadata": {
  "kernelspec": {
   "display_name": "Python 3",
   "language": "python",
   "name": "python3"
  },
  "language_info": {
   "codemirror_mode": {
    "name": "ipython",
    "version": 3
   },
   "file_extension": ".py",
   "mimetype": "text/x-python",
   "name": "python",
   "nbconvert_exporter": "python",
   "pygments_lexer": "ipython3",
   "version": "3.4.3+"
  }
 },
 "nbformat": 4,
 "nbformat_minor": 0
}
