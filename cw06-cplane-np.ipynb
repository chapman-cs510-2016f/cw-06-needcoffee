{
 "cells": [
  {
   "cell_type": "markdown",
   "metadata": {},
   "source": [
    "# Alexis Ford, Afnan Alqahtani\n",
    "October 11 , 2016"
   ]
  },
  {
   "cell_type": "code",
   "execution_count": null,
   "metadata": {
    "collapsed": true
   },
   "outputs": [],
   "source": [
    "#provide a demonstration of how your class works. \n",
    "#Be sure to switch the default kernel to Python 3 instead of the default Python 2 used by Sage.\n",
    "#Include a detailed discussion comparing this implementation with your previous implementation using vanilla python lists."
   ]
  },
  {
   "cell_type": "markdown",
   "metadata": {},
   "source": [
    "## demonstration of how our class works. "
   ]
  },
  {
   "cell_type": "code",
   "execution_count": 21,
   "metadata": {
    "collapsed": true
   },
   "outputs": [
    {
     "ename": "ImportError",
     "evalue": "cannot import name ABC",
     "output_type": "error",
     "traceback": [
      "\u001b[1;31m---------------------------------------------------------------------------\u001b[0m",
      "\u001b[1;31mImportError\u001b[0m                               Traceback (most recent call last)",
      "\u001b[1;32m<ipython-input-21-b5bfc55f689a>\u001b[0m in \u001b[0;36m<module>\u001b[1;34m()\u001b[0m\n\u001b[0;32m      1\u001b[0m \u001b[1;31m#provide a demonstration of how your class works.\u001b[0m\u001b[1;33m\u001b[0m\u001b[1;33m\u001b[0m\u001b[0m\n\u001b[0;32m      2\u001b[0m \u001b[1;33m\u001b[0m\u001b[0m\n\u001b[1;32m----> 3\u001b[1;33m \u001b[1;32mfrom\u001b[0m \u001b[0mcplane_np\u001b[0m \u001b[1;32mimport\u001b[0m \u001b[0mComplexPlaneNP\u001b[0m\u001b[1;33m;\u001b[0m\u001b[1;33m\u001b[0m\u001b[0m\n\u001b[0m\u001b[0;32m      4\u001b[0m \u001b[0mtestPlane\u001b[0m \u001b[1;33m=\u001b[0m \u001b[0mcplane\u001b[0m\u001b[1;33m.\u001b[0m\u001b[0mComplexPlane\u001b[0m\u001b[1;33m(\u001b[0m\u001b[1;33m-\u001b[0m\u001b[1;36m5\u001b[0m\u001b[1;33m,\u001b[0m\u001b[1;36m5\u001b[0m\u001b[1;33m,\u001b[0m\u001b[1;36m11\u001b[0m\u001b[1;33m,\u001b[0m\u001b[1;33m-\u001b[0m\u001b[1;36m5\u001b[0m\u001b[1;33m,\u001b[0m\u001b[1;36m5\u001b[0m\u001b[1;33m,\u001b[0m\u001b[1;36m11\u001b[0m\u001b[1;33m)\u001b[0m\u001b[1;33m\u001b[0m\u001b[0m\n\u001b[0;32m      5\u001b[0m \u001b[1;32mprint\u001b[0m \u001b[1;33m(\u001b[0m\u001b[0mtestPlane\u001b[0m\u001b[1;33m)\u001b[0m\u001b[1;33m\u001b[0m\u001b[0m\n",
      "\u001b[1;32m/projects/41c9f4bc-c07c-41df-9823-f8f65ac3a0a3/Class_Work/cw-06-needcoffee/cplane_np.py\u001b[0m in \u001b[0;36m<module>\u001b[1;34m()\u001b[0m\n\u001b[0;32m      1\u001b[0m \u001b[1;31m#!/usr/bin/env python3\u001b[0m\u001b[1;33m\u001b[0m\u001b[1;33m\u001b[0m\u001b[0m\n\u001b[0;32m      2\u001b[0m \u001b[1;33m\u001b[0m\u001b[0m\n\u001b[1;32m----> 3\u001b[1;33m \u001b[1;32mimport\u001b[0m \u001b[0mabscplane\u001b[0m\u001b[1;33m\u001b[0m\u001b[0m\n\u001b[0m\u001b[0;32m      4\u001b[0m \u001b[1;32mimport\u001b[0m \u001b[0mnumpy\u001b[0m \u001b[1;32mas\u001b[0m \u001b[0mnp\u001b[0m\u001b[1;33m\u001b[0m\u001b[0m\n\u001b[0;32m      5\u001b[0m \u001b[1;32mimport\u001b[0m \u001b[0mpandas\u001b[0m \u001b[1;32mas\u001b[0m \u001b[0mpd\u001b[0m\u001b[1;33m\u001b[0m\u001b[0m\n",
      "\u001b[1;32m/projects/41c9f4bc-c07c-41df-9823-f8f65ac3a0a3/Class_Work/cw-06-needcoffee/abscplane.py\u001b[0m in \u001b[0;36m<module>\u001b[1;34m()\u001b[0m\n\u001b[0;32m      1\u001b[0m \u001b[1;31m#!/usr/bin/env python3\u001b[0m\u001b[1;33m\u001b[0m\u001b[1;33m\u001b[0m\u001b[0m\n\u001b[0;32m      2\u001b[0m \u001b[1;33m\u001b[0m\u001b[0m\n\u001b[1;32m----> 3\u001b[1;33m \u001b[1;32mfrom\u001b[0m \u001b[0mabc\u001b[0m \u001b[1;32mimport\u001b[0m \u001b[0mABC\u001b[0m\u001b[1;33m,\u001b[0m \u001b[0mabstractmethod\u001b[0m\u001b[1;33m\u001b[0m\u001b[0m\n\u001b[0m\u001b[0;32m      4\u001b[0m \u001b[1;33m\u001b[0m\u001b[0m\n\u001b[0;32m      5\u001b[0m \"\"\"CS510 - CW05 Abstract Base Classes.\n",
      "\u001b[1;31mImportError\u001b[0m: cannot import name ABC"
     ]
    }
   ],
   "source": [
    "from cplane_np import ComplexPlaneNP;\n",
    "testPlane = cplane.ComplexPlane(-5,5,11,-5,5,11)\n",
    "self.refresh()"
   ]
  },
  {
   "cell_type": "markdown",
   "metadata": {},
   "source": [
    "we import our module and then the attributors we have.\n",
    "calling the function refreshes() to Regenerate complex plane.\n",
    "For every point (x + y*1j) in self.plane, replacethe point with the value self.f(x + y*1j). \n"
   ]
  },
  {
   "cell_type": "code",
   "execution_count": null,
   "metadata": {
    "collapsed": true
   },
   "outputs": [],
   "source": [
    "def refresh(self):\n",
    "        \"\"\"Regenerate complex plane.\n",
    "        For every point (x + y*1j) in self.plane, replace\n",
    "        the point with the value self.f(x + y*1j). \n",
    "        \"\"\"\n",
    "        \n",
    "        real = np.linspace(self.xmin,self.xmax,self.xlen)\n",
    "        imaginary = np.linspace(self.ymin,self.ymax,self.ylen)\n",
    "        x, y= np.meshgrid(real,imaginary)\n",
    "        z = x+ y*1j\n",
    "        rl = np.linspace(self.xmin,self.xmax,self.xlen)\n",
    "        imag = np.linspace(self.ymin,self.ymax,self.ylen)\n",
    "        self.plane = pd.DataFrame(self.f(z), index=imag, columns=rl)"
   ]
  },
  {
   "cell_type": "markdown",
   "metadata": {},
   "source": [
    "## Julia \n",
    "\n",
    "create a function julia(c, max=100) that takes a complex parameter c and an optional positive integer max\n",
    "The function take one complex parameter z as an input, and return a positive integer n.\n",
    "The returned integer n should count how many times the complex parameter z can be transformed \n",
    "as z = z^2 + c before the resulting magnitude |z| exceeds 2.\n",
    "If the number max is reached before the magnitude of z exceeds 2, the function should return the number 0.\n",
    "If the number z already has a magnitude larger than 2, the function should return 1."
   ]
  },
  {
   "cell_type": "code",
   "execution_count": null,
   "metadata": {
    "collapsed": true
   },
   "outputs": [],
   "source": [
    "def julia(c, max=100):\n",
    "    def f(z):\n",
    "        n = 1\n",
    "        mag = abs(z)\n",
    "        if mag > 2:\n",
    "            return 1\n",
    "        while n <= max:\n",
    "            z = z**2 + c\n",
    "            mag = abs(z)\n",
    "            if mag > 2:\n",
    "                return n\n",
    "            else:\n",
    "                n += 1\n",
    "        return 0\n",
    "    return f\n"
   ]
  },
  {
   "cell_type": "markdown",
   "metadata": {},
   "source": [
    "### test Julia"
   ]
  },
  {
   "cell_type": "code",
   "execution_count": null,
   "metadata": {
    "collapsed": true
   },
   "outputs": [],
   "source": [
    "def test_julia():\n",
    "    f = julia( -1.037 + 0.17j )  \n",
    "    assert f(-1.00 - 0.2j) == 0  \n",
    "    assert f(-1.01 - 0.2j) == 20\n",
    "    assert f(-1.02 - 0.2j) == 13\n",
    "    assert f(-1.03 - 0.2j) == 10\n",
    "    print (f)\n",
    "    \n",
    "test_julia()"
   ]
  },
  {
   "cell_type": "markdown",
   "metadata": {},
   "source": [
    " c= -1.037 + 0.17j\n",
    " z= -1.00 - 0.2j\n",
    " z= -1.02 - 0.2j\n",
    " z= -1.03 - 0.2j"
   ]
  },
  {
   "cell_type": "markdown",
   "metadata": {},
   "source": [
    "## deffrience between CW5 and CW6\n",
    "\n",
    "1- we used before vanilla list but now we are using panda and numpy \n",
    "2- we we deside to create the plane in refresh() \n",
    "3- we removed the attributes xtick and ytick that determine how far apart each point is. inestaed we used np.linspace\n"
   ]
  }
 ],
 "metadata": {
  "kernelspec": {
   "display_name": "Python 2 (SageMath)",
   "language": "python",
   "name": "python2"
  },
  "language_info": {
   "codemirror_mode": {
    "name": "ipython",
    "version": 2
   },
   "file_extension": ".py",
   "mimetype": "text/x-python",
   "name": "python",
   "nbconvert_exporter": "python",
   "pygments_lexer": "ipython2",
   "version": "2.7.10"
  }
 },
 "nbformat": 4,
 "nbformat_minor": 0
}
